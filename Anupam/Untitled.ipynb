{
 "cells": [
  {
   "cell_type": "code",
   "execution_count": 1,
   "id": "f3142023-6037-4310-a58d-4a736f32fac5",
   "metadata": {},
   "outputs": [
    {
     "name": "stdout",
     "output_type": "stream",
     "text": [
      "Defaulting to user installation because normal site-packages is not writeable\n",
      "Requirement already satisfied: pandas in c:\\programdata\\anaconda3\\lib\\site-packages (2.2.2)\n",
      "Collecting PyPDF2\n",
      "  Using cached pypdf2-3.0.1-py3-none-any.whl.metadata (6.8 kB)\n",
      "Collecting python-docx\n",
      "  Using cached python_docx-1.1.2-py3-none-any.whl.metadata (2.0 kB)\n",
      "Collecting pdfplumber\n",
      "  Using cached pdfplumber-0.11.4-py3-none-any.whl.metadata (41 kB)\n",
      "Requirement already satisfied: numpy>=1.26.0 in c:\\programdata\\anaconda3\\lib\\site-packages (from pandas) (1.26.4)\n",
      "Requirement already satisfied: python-dateutil>=2.8.2 in c:\\programdata\\anaconda3\\lib\\site-packages (from pandas) (2.9.0.post0)\n",
      "Requirement already satisfied: pytz>=2020.1 in c:\\programdata\\anaconda3\\lib\\site-packages (from pandas) (2024.1)\n",
      "Requirement already satisfied: tzdata>=2022.7 in c:\\programdata\\anaconda3\\lib\\site-packages (from pandas) (2023.3)\n",
      "Requirement already satisfied: lxml>=3.1.0 in c:\\programdata\\anaconda3\\lib\\site-packages (from python-docx) (5.2.1)\n",
      "Requirement already satisfied: typing-extensions>=4.9.0 in c:\\programdata\\anaconda3\\lib\\site-packages (from python-docx) (4.11.0)\n",
      "Collecting pdfminer.six==20231228 (from pdfplumber)\n",
      "  Using cached pdfminer.six-20231228-py3-none-any.whl.metadata (4.2 kB)\n",
      "Requirement already satisfied: Pillow>=9.1 in c:\\programdata\\anaconda3\\lib\\site-packages (from pdfplumber) (10.3.0)\n",
      "Collecting pypdfium2>=4.18.0 (from pdfplumber)\n",
      "  Using cached pypdfium2-4.30.0-py3-none-win_amd64.whl.metadata (48 kB)\n",
      "Requirement already satisfied: charset-normalizer>=2.0.0 in c:\\programdata\\anaconda3\\lib\\site-packages (from pdfminer.six==20231228->pdfplumber) (2.0.4)\n",
      "Requirement already satisfied: cryptography>=36.0.0 in c:\\programdata\\anaconda3\\lib\\site-packages (from pdfminer.six==20231228->pdfplumber) (42.0.5)\n",
      "Requirement already satisfied: six>=1.5 in c:\\programdata\\anaconda3\\lib\\site-packages (from python-dateutil>=2.8.2->pandas) (1.16.0)\n",
      "Requirement already satisfied: cffi>=1.12 in c:\\programdata\\anaconda3\\lib\\site-packages (from cryptography>=36.0.0->pdfminer.six==20231228->pdfplumber) (1.16.0)\n",
      "Requirement already satisfied: pycparser in c:\\programdata\\anaconda3\\lib\\site-packages (from cffi>=1.12->cryptography>=36.0.0->pdfminer.six==20231228->pdfplumber) (2.21)\n",
      "Using cached pypdf2-3.0.1-py3-none-any.whl (232 kB)\n",
      "Using cached python_docx-1.1.2-py3-none-any.whl (244 kB)\n",
      "Using cached pdfplumber-0.11.4-py3-none-any.whl (59 kB)\n",
      "Using cached pdfminer.six-20231228-py3-none-any.whl (5.6 MB)\n",
      "Using cached pypdfium2-4.30.0-py3-none-win_amd64.whl (2.9 MB)\n",
      "Installing collected packages: python-docx, pypdfium2, PyPDF2, pdfminer.six, pdfplumber\n",
      "Successfully installed PyPDF2-3.0.1 pdfminer.six-20231228 pdfplumber-0.11.4 pypdfium2-4.30.0 python-docx-1.1.2\n",
      "Note: you may need to restart the kernel to use updated packages.\n"
     ]
    },
    {
     "name": "stderr",
     "output_type": "stream",
     "text": [
      "  WARNING: The script pypdfium2.exe is installed in 'C:\\Users\\Reena Sharma\\AppData\\Roaming\\Python\\Python312\\Scripts' which is not on PATH.\n",
      "  Consider adding this directory to PATH or, if you prefer to suppress this warning, use --no-warn-script-location.\n",
      "  WARNING: The script pdfplumber.exe is installed in 'C:\\Users\\Reena Sharma\\AppData\\Roaming\\Python\\Python312\\Scripts' which is not on PATH.\n",
      "  Consider adding this directory to PATH or, if you prefer to suppress this warning, use --no-warn-script-location.\n"
     ]
    }
   ],
   "source": [
    "pip install pandas PyPDF2 python-docx pdfplumber\n"
   ]
  },
  {
   "cell_type": "code",
   "execution_count": 1,
   "id": "e39fea4d-85b8-4d51-9433-d5e9457d9e50",
   "metadata": {},
   "outputs": [],
   "source": [
    "import os\n",
    "import re\n",
    "import pandas as pd\n",
    "import PyPDF2\n",
    "import docx\n",
    "import pdfplumber"
   ]
  },
  {
   "cell_type": "code",
   "execution_count": 2,
   "id": "528f7b1e-f99c-4221-916d-3d8d3c42b207",
   "metadata": {},
   "outputs": [],
   "source": [
    "# Expected Matches:\n",
    "\n",
    "# Indian Numbers:\n",
    "\n",
    "# (+91) 98765-54322 → Matches\n",
    "# +91-7838166910 → Matches\n",
    "# +91 9876543210 → Matches\n",
    "# +919876543210 → Matches\n",
    "# 9570298107 → Matches\n",
    "# 8851649905 → Matches\n",
    "# 09876 543210 → Matches\n",
    "\n",
    "# US Numbers:\n",
    "\n",
    "# +1 (555) 123-4567 → Matches\n",
    "# +1 555-123-4567 → Matches\n",
    "# +1 555 123 4567 → Matches\n",
    "# +1 5551234567 → Matches\n",
    "# +1(555)1234567 → Matches\n",
    "# +1(555) 1234567 → Matches\n",
    "# +1 555-1234567 → Matches\n",
    "# +1-555-123-4567 → Matches\n",
    "# 555-123-4567 → Matches\n",
    "# 5551234567 → Matches"
   ]
  },
  {
   "cell_type": "code",
   "execution_count": 5,
   "id": "c89a6361-b0da-4554-857c-138711df4f95",
   "metadata": {},
   "outputs": [],
   "source": [
    "# Regex pattern for India and USA phone numbers\n",
    "#phone_pattern = r'\\+?\\d[\\d\\s.-]{8,}\\d'\n",
    "phone_pattern = r'(\\(\\+91\\)\\s?\\d{5}-\\d{5})|(\\+91-\\d{10})|(\\+91\\s?\\d{10})|(\\+91\\d{10})|(\\d{10})|(\\+1\\s\\(\\d{3}\\)\\s\\d{3}-\\d{4})|(\\+1\\s\\d{3}-\\d{3}-\\d{4})|(\\+1\\s\\d{3}\\s\\d{3}-\\d{4})|(\\+1\\s\\d{3}\\s\\d{4})|(\\+1-\\d{3}-\\d{3}-\\d{4})|(\\d{3}-\\d{3}-\\d{4})|(\\d{3}\\s\\d{3}-\\d{4})|(\\+1\\s\\d{3}\\d{7})|(\\+1\\(\\d{3}\\)\\d{7})|(\\+1\\(\\d{3}\\)\\s\\d{7})|(\\+1\\(\\d{3}\\)\\s\\d{3}-\\d{4})|(\\+1\\(\\d{3}\\)\\s\\d{3}\\d{4})|(\\+1\\s\\d{3}-\\d{3}\\d{4})'\n",
    "email_pattern = r'[a-zA-Z0-9._%+-]+@[a-zA-Z0-9.-]+\\.[a-zA-Z]{2,4}'"
   ]
  },
  {
   "cell_type": "code",
   "execution_count": 9,
   "id": "a2ac08d8-9672-4f2f-80ee-263d7cf73065",
   "metadata": {},
   "outputs": [],
   "source": [
    "\n",
    "# Function to extract text from PDF files\n",
    "def extract_text_from_pdf(file_path):\n",
    "    text = ''\n",
    "    try:\n",
    "        with pdfplumber.open(file_path) as pdf:\n",
    "            for page in pdf.pages:\n",
    "                text += page.extract_text()\n",
    "    except Exception as e:\n",
    "        print(f\"Error extracting text from {file_path}: {e}\")\n",
    "    return text\n",
    "\n",
    "# Function to extract text from Word files\n",
    "def extract_text_from_word(file_path):\n",
    "    doc = docx.Document(file_path)\n",
    "    full_text = []\n",
    "    for paragraph in doc.paragraphs:\n",
    "        full_text.append(paragraph.text)\n",
    "    return '\\n'.join(full_text)\n",
    "\n",
    "# Function to extract name from file content\n",
    "def extract_name_from_text(text):\n",
    "    # Find the first two words that might be the name (may need tuning)\n",
    "    name = re.split(r'\\n|\\s+', text.strip())[:2]\n",
    "    return ' '.join(name)\n",
    "\n",
    "def extract_name_from_filename(file_name):\n",
    "    # Remove the file extension and split by special characters or spaces\n",
    "    name_part = re.sub(r'[_-]', ' ', os.path.splitext(file_name)[0])  # Replace underscores and dashes with space\n",
    "    name_part = re.sub(r'\\W+', ' ', name_part)  # Remove other special characters\n",
    "    name_part = re.sub(r'\\b(resume|cv|curriculum vitae)\\b', '', name_part, flags=re.IGNORECASE)  # Remove keywords\n",
    "    name_part = re.sub(r'\\s+', ' ', name_part).strip()  # Remove extra spaces\n",
    "    return name_part\n",
    "\n",
    "# Function to extract emails and phone numbers from text\n",
    "def extract_contact_info(text):\n",
    "    emails = re.findall(email_pattern, text)\n",
    "    \n",
    "    # Extract phone numbers using the updated phone pattern\n",
    "    phone_matches = re.findall(phone_pattern, text)\n",
    "    # Flatten the tuples returned by findall\n",
    "    phones = [match[0] or match[1] or match[2] or match[3] or match[4] or match[5] or match[6] or match[7] or match[8] or match[9] or match[10] or match[11] or match[12] or match[13] for match in phone_matches]\n",
    "    \n",
    "    return emails, phones\n",
    "\n",
    "# Main function to extract data from files in a folder\n",
    "def extract_info_from_folder(folder_path):\n",
    "    extracted_data = []\n",
    "    for file_name in os.listdir(folder_path):\n",
    "        # Skip temporary files that start with '~$'\n",
    "        if file_name.startswith(\"~$\"):\n",
    "            continue\n",
    "        \n",
    "        file_path = os.path.join(folder_path, file_name)\n",
    "\n",
    "        # Read the document text \n",
    "        if file_name.endswith(\".pdf\"):\n",
    "            text = extract_text_from_pdf(file_path)\n",
    "        elif file_name.endswith(\".docx\"):\n",
    "            text = extract_text_from_word(file_path)\n",
    "        else:\n",
    "            continue\n",
    "        \n",
    "        emails, phones = extract_contact_info(text)\n",
    "        name_from_text = extract_name_from_text(text)  # Extract name from text\n",
    "        name_from_file = extract_name_from_filename(file_name)  # Extract name from filename\n",
    "        \n",
    "        extracted_data.append({\n",
    "            'Name from Text': name_from_text,\n",
    "            'Name from File': name_from_file,\n",
    "            'Emails': ', '.join(emails),\n",
    "            'Phone Numbers': ', '.join(phones)\n",
    "        })\n",
    "    \n",
    "    return pd.DataFrame(extracted_data)\n"
   ]
  },
  {
   "cell_type": "code",
   "execution_count": 11,
   "id": "511675a1-31a0-4d27-8475-55f14c700164",
   "metadata": {},
   "outputs": [],
   "source": [
    "# Example usage\n",
    "folder_path = 'C:\\\\Users\\\\Reena Sharma\\\\llama_index\\\\data'  # Update with your folder path\n",
    "df = extract_info_from_folder(folder_path)"
   ]
  },
  {
   "cell_type": "code",
   "execution_count": 13,
   "id": "0116c7d7-bd28-4a78-a526-169126b1d99a",
   "metadata": {},
   "outputs": [
    {
     "name": "stdout",
     "output_type": "stream",
     "text": [
      "Extracted data saved to extracted_contact_info.csv\n"
     ]
    }
   ],
   "source": [
    "# Save the extracted data to a CSV file\n",
    "output_file = 'extracted_contact_info.csv'\n",
    "df.to_csv(output_file, index=False)\n",
    "print(f\"Extracted data saved to {output_file}\")"
   ]
  },
  {
   "cell_type": "code",
   "execution_count": null,
   "id": "7cd687f9-ea1c-4d2d-9c7f-8642a71a923c",
   "metadata": {},
   "outputs": [],
   "source": []
  }
 ],
 "metadata": {
  "kernelspec": {
   "display_name": "Python 3 (ipykernel)",
   "language": "python",
   "name": "python3"
  },
  "language_info": {
   "codemirror_mode": {
    "name": "ipython",
    "version": 3
   },
   "file_extension": ".py",
   "mimetype": "text/x-python",
   "name": "python",
   "nbconvert_exporter": "python",
   "pygments_lexer": "ipython3",
   "version": "3.12.4"
  }
 },
 "nbformat": 4,
 "nbformat_minor": 5
}
